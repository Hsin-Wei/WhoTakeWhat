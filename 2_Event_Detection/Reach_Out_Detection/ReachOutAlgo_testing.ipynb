{
 "cells": [
  {
   "cell_type": "markdown",
   "metadata": {},
   "source": [
    "# Experiencing real data"
   ]
  },
  {
   "cell_type": "code",
   "execution_count": 1,
   "metadata": {},
   "outputs": [],
   "source": [
    "import glob\n",
    "import os\n",
    "import numpy as np\n",
    "import math\n",
    "import pandas as pd\n",
    "from IPython.display import display\n",
    "import pickle\n",
    "from sklearn.externals import joblib\n",
    "\n",
    "from extract_feature_IMU import extract_feature_IMU"
   ]
  },
  {
   "cell_type": "markdown",
   "metadata": {},
   "source": [
    "# Preload"
   ]
  },
  {
   "cell_type": "code",
   "execution_count": 2,
   "metadata": {},
   "outputs": [],
   "source": [
    "#將Pred結果展開成sample比較 #Overlapping 實際執行秒數 = (Sec*Num)-[(Num-1)*Overlap]\n",
    "def pred_flatToSamples_IMU(y_pred):\n",
    "    allofSec = windowSize_sec*len(y_pred)-(len(y_pred)-1)*overlapping\n",
    "    y_pred_sample = [0] * (allofSec*sampleRate_IMU_acc)\n",
    "    for pred, index in zip(y_pred, range(0, allofSec, windowSize_sec-overlapping)):\n",
    "        if pred == 1:\n",
    "            start = index*sampleRate_IMU_acc\n",
    "            end = start + sampleRate_IMU_acc*windowSize_sec\n",
    "            listofOne = [1] * (sampleRate_IMU_acc*windowSize_sec)\n",
    "            y_pred_sample[start:end] = listofOne\n",
    "    return y_pred_sample"
   ]
  },
  {
   "cell_type": "code",
   "execution_count": 3,
   "metadata": {},
   "outputs": [],
   "source": [
    "tree_IMU = joblib.load('./models/tree_IMU.pkl')\n",
    "forest_IMU = joblib.load('./models/forest_IMU.pkl')\n",
    "knn_IMU = joblib.load('./models/knn_IMU.pkl')\n",
    "svm_linear_IMU = joblib.load('./models/svm_linear_IMU.pkl')\n",
    "svm_poly_IMU = joblib.load('./models/svm_poly_IMU.pkl')\n",
    "svm_sigmoid_IMU = joblib.load('./models/svm_sigmoid_IMU.pkl')\n",
    "NN_IMU = joblib.load('./models/NN_IMU.pkl')"
   ]
  },
  {
   "cell_type": "code",
   "execution_count": 4,
   "metadata": {},
   "outputs": [],
   "source": [
    "def ensemble(X_train):\n",
    "    y_pred_ensemble = []\n",
    "    y_pred_ensemble.append(tree_IMU.predict(X_train))\n",
    "    y_pred_ensemble.append(forest_IMU.predict(X_train))\n",
    "    y_pred_ensemble.append(knn_IMU.predict(X_train))\n",
    "    y_pred_ensemble.append(svm_linear_IMU.predict(X_train))\n",
    "    y_pred_ensemble.append(svm_poly_IMU.predict(X_train))\n",
    "    y_pred_ensemble.append(svm_sigmoid_IMU.predict(X_train))\n",
    "    y_pred_ensemble.append(NN_IMU.predict(X_train))\n",
    "    y_pred_ensemble = np.array(y_pred_ensemble).T\n",
    "    y_pred = []\n",
    "    for y_seg in y_pred_ensemble:\n",
    "        y_seg = y_seg.tolist()\n",
    "        if y_seg.count(0) > y_seg.count(1):\n",
    "            y_pred.append(0)\n",
    "        else:\n",
    "            y_pred.append(1)\n",
    "    #     unique, counts = numpy.unique(y_seg, return_counts=True)\n",
    "    #     dict(zip(unique, counts))\n",
    "    return np.array(y_pred)"
   ]
  },
  {
   "cell_type": "markdown",
   "metadata": {},
   "source": [
    "# Main"
   ]
  },
  {
   "cell_type": "code",
   "execution_count": 5,
   "metadata": {},
   "outputs": [],
   "source": [
    "#Loading data\n",
    "IMU_rw_file_path = r'C:/Users/NCTU/Desktop/WhoTakeWhat/data/IMU/forRO/testing'                     # use your path\n",
    "IMU_rw_all_files = glob.glob(os.path.join(IMU_rw_file_path, \"*.csv\"))     # advisable to use os.path.join as this makes concatenation OS independent\n",
    "#Loading configuration\n",
    "config_path = './config/'\n",
    "config = pickle.load(open(config_path + 'config.pkl', 'rb'))\n",
    "sampleRate_IMU_acc = config['sampling_rate']\n",
    "windowSize_sec = config['windows_size']\n",
    "\n",
    "for file in IMU_rw_all_files:\n",
    "    who = file.split('\\\\')[-1].split('.')[0]\n",
    "    IMU_rW_pd = pd.read_csv(file, header=None)\n",
    "    IMU_rW_pd.columns = ['earx', 'eary', 'earz', 'accx', 'accy', 'accz', 'gyrox', 'gyroy', 'gyroz', 'timestamp']\n",
    "\n",
    "    IMU_rW = IMU_rW_pd[['accx', 'accy', 'accz', 'gyrox', 'gyroy', 'gyroz']].values.tolist()\n",
    "\n",
    "    ##Segmentation(by windows Size, and Overlapping= windows size - 1 sec)\n",
    "    overlapping = windowSize_sec - 1\n",
    "    X_rW_IMU_seg = []\n",
    "\n",
    "    for start in range(0, len(IMU_rW), windowSize_sec*sampleRate_IMU_acc - overlapping*sampleRate_IMU_acc):\n",
    "        end = start + sampleRate_IMU_acc*windowSize_sec\n",
    "        if len(IMU_rW[start:end]) < sampleRate_IMU_acc*windowSize_sec:\n",
    "            break\n",
    "        else:\n",
    "            X_rW_IMU_seg.append(IMU_rW[start:end])\n",
    "\n",
    "    #Preprocessing\n",
    "    X_rW_IMU_seg_conv = []\n",
    "    for X_rW_IMU_seg_sam in X_rW_IMU_seg:\n",
    "        X_rW_IMU_seg_conv.append(X_rW_IMU_seg_sam)\n",
    "\n",
    "    ##feature extraction\n",
    "    X_rW_IMU = []\n",
    "    for X_rW_IMU_seg_sample in X_rW_IMU_seg_conv:\n",
    "        X_rW_IMU.append(extract_feature_IMU(np.array(X_rW_IMU_seg_sample)))\n",
    "\n",
    "    ##Normalization\n",
    "    sc_IMU = joblib.load('./models/sc_IMU.pkl')\n",
    "    X_rW_IMU_std = sc_IMU.transform(X_rW_IMU)\n",
    "    \n",
    "    #Feed into model\n",
    "    y_IMU_pred = ensemble(X_rW_IMU_std)\n",
    "    IMU_sample_rw_pred = pred_flatToSamples_IMU(y_IMU_pred)\n",
    "    \n",
    "    #Save result\n",
    "    result = pd.concat([pd.Series(IMU_sample_rw_pred), IMU_rW_pd[['timestamp']][:len(IMU_sample_rw_pred)]], ignore_index=True, axis=1)\n",
    "    result.to_csv(('C:/Users/NCTU/Desktop/WhoTakeWhat/data/result/Event_Detection/%s.csv' % who), header=None, index=False)"
   ]
  },
  {
   "cell_type": "code",
   "execution_count": 6,
   "metadata": {},
   "outputs": [
    {
     "ename": "ZeroDivisionError",
     "evalue": "division by zero",
     "output_type": "error",
     "traceback": [
      "\u001b[1;31m---------------------------------------------------------------------------\u001b[0m",
      "\u001b[1;31mZeroDivisionError\u001b[0m                         Traceback (most recent call last)",
      "\u001b[1;32m<ipython-input-6-9e1622b385b6>\u001b[0m in \u001b[0;36m<module>\u001b[1;34m()\u001b[0m\n\u001b[1;32m----> 1\u001b[1;33m \u001b[1;36m1\u001b[0m\u001b[1;33m/\u001b[0m\u001b[1;36m0\u001b[0m\u001b[1;33m\u001b[0m\u001b[0m\n\u001b[0m",
      "\u001b[1;31mZeroDivisionError\u001b[0m: division by zero"
     ]
    }
   ],
   "source": [
    "1/0"
   ]
  },
  {
   "cell_type": "markdown",
   "metadata": {},
   "source": [
    "# Debug"
   ]
  },
  {
   "cell_type": "markdown",
   "metadata": {},
   "source": [
    "Sign IMU result in Kinect video"
   ]
  },
  {
   "cell_type": "code",
   "execution_count": null,
   "metadata": {},
   "outputs": [],
   "source": [
    "#Sign IMU result in Kinect video\n",
    "IMU_result_inKinect = []\n",
    "\n",
    "IMU_rW_time = pd.to_datetime(IMU_rW_pd['timestamp'], format='%H:%M:%S:%f')\n",
    "Kinect_rW_time = pd.to_datetime(Kinect_rW_pd['timestamp'], format='%H:%M:%S:%f')\n",
    "i = 0\n",
    "for Kinect_rW_timestamp in Kinect_rW_time:\n",
    "    for si in range(i, len(IMU_rW_time)):\n",
    "        if IMU_rW_time[si] <= Kinect_rW_timestamp and Kinect_rW_timestamp < IMU_rW_time[si+1]:\n",
    "            IMU_result_inKinect.append(IMU_sample_rw_pred[i])\n",
    "            i = si\n",
    "            break\n",
    "            \n",
    "# IMU_Kinect_sample_rw_pred = pd.DataFrame(np.array([IMU_result_inKinect, Kinect_sample_rw_pred]).T)"
   ]
  },
  {
   "cell_type": "markdown",
   "metadata": {},
   "source": [
    "### Save to csv include result of predicting, headX_video, headY_video"
   ]
  },
  {
   "cell_type": "code",
   "execution_count": null,
   "metadata": {},
   "outputs": [],
   "source": [
    "result = pd.concat([pd.Series(IMU_result_inKinect), Kinect_rW_pd[['Head_image_x', 'Head_image_y', 'timestamp']]], ignore_index=True, axis=1)\n",
    "\n",
    "result.to_csv('D:/GoogleDrive/Graduate/Research/Research_HsinWei/Programs/data/realWorldData/ReachOutResult.csv', header=None, index=False)"
   ]
  },
  {
   "cell_type": "code",
   "execution_count": null,
   "metadata": {},
   "outputs": [],
   "source": []
  }
 ],
 "metadata": {
  "kernelspec": {
   "display_name": "Python 3",
   "language": "python",
   "name": "python3"
  },
  "language_info": {
   "codemirror_mode": {
    "name": "ipython",
    "version": 3
   },
   "file_extension": ".py",
   "mimetype": "text/x-python",
   "name": "python",
   "nbconvert_exporter": "python",
   "pygments_lexer": "ipython3",
   "version": "3.6.4"
  }
 },
 "nbformat": 4,
 "nbformat_minor": 2
}
