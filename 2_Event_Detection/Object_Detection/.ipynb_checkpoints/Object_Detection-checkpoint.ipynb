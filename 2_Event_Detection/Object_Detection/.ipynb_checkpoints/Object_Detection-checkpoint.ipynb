{
 "cells": [
  {
   "cell_type": "code",
   "execution_count": 1,
   "metadata": {},
   "outputs": [],
   "source": [
    "import numpy as np\n",
    "import cv2\n",
    "import requests\n",
    "import os, os.path"
   ]
  },
  {
   "cell_type": "code",
   "execution_count": 2,
   "metadata": {},
   "outputs": [],
   "source": [
    "#Parameters\n",
    "frames_DIR = 'C:\\\\Users\\\\NCTU\\\\Desktop\\\\WhoTakeWhat\\\\data\\\\Camera'\n",
    "url = 'http://140.113.86.149:8896'"
   ]
  },
  {
   "cell_type": "code",
   "execution_count": 3,
   "metadata": {},
   "outputs": [
    {
     "name": "stdout",
     "output_type": "stream",
     "text": [
      "remove success\n"
     ]
    }
   ],
   "source": [
    "#Delete prior files in server\n",
    "dr = requests.post(url + '/deletefiles')\n",
    "print(dr.text)"
   ]
  },
  {
   "cell_type": "code",
   "execution_count": 4,
   "metadata": {},
   "outputs": [
    {
     "data": {
      "application/vnd.jupyter.widget-view+json": {
       "model_id": "7d0b216505754707a8d7ca6100822086",
       "version_major": 2,
       "version_minor": 0
      },
      "text/html": [
       "<p>Failed to display Jupyter Widget of type <code>IntProgress</code>.</p>\n",
       "<p>\n",
       "  If you're reading this message in the Jupyter Notebook or JupyterLab Notebook, it may mean\n",
       "  that the widgets JavaScript is still loading. If this message persists, it\n",
       "  likely means that the widgets JavaScript library is either not installed or\n",
       "  not enabled. See the <a href=\"https://ipywidgets.readthedocs.io/en/stable/user_install.html\">Jupyter\n",
       "  Widgets Documentation</a> for setup instructions.\n",
       "</p>\n",
       "<p>\n",
       "  If you're reading this message in another frontend (for example, a static\n",
       "  rendering on GitHub or <a href=\"https://nbviewer.jupyter.org/\">NBViewer</a>),\n",
       "  it may mean that your frontend doesn't currently support widgets.\n",
       "</p>\n"
      ],
      "text/plain": [
       "IntProgress(value=0, description='(Init)', max=901)"
      ]
     },
     "metadata": {},
     "output_type": "display_data"
    }
   ],
   "source": [
    "#Update frames to server\n",
    "from ipywidgets import IntProgress\n",
    "from IPython.display import display\n",
    "\n",
    "frames_files = [name for name in os.listdir(frames_DIR) if '.jpg' in name]\n",
    "\n",
    "#init progress\n",
    "progress = IntProgress()\n",
    "progress.max = len(frames_files)\n",
    "progress.description = '(Init)'\n",
    "display(progress)\n",
    "\n",
    "# # Simulating task execution\n",
    "# for task in todo_tasks:\n",
    "#     progress.value += 1\n",
    "#     time.sleep(0.05)\n",
    "#     progress.description = task\n",
    "# progress.description = '(Done)'\n",
    "\n",
    "images_count = len(frames_files)\n",
    "                   \n",
    "for count in range(images_count):\n",
    "    files = {'file': open(frames_DIR + ('/%d.jpg' % count), 'rb')}\n",
    "    r = requests.post(url + '/update', files = files)\n",
    "    # Show progress\n",
    "    progress.value += 1\n",
    "    progress.description = ('%d.jpg to server: ' % count)\n",
    "progress.description = '(Done)'\n",
    "#     print('Update %d.jpg to server: ' % count, r.text)"
   ]
  },
  {
   "cell_type": "code",
   "execution_count": 5,
   "metadata": {},
   "outputs": [
    {
     "name": "stdout",
     "output_type": "stream",
     "text": [
      "{\"bottle_list\": [\"bottle_0\", \"bottle_1\", \"bottle_2\"], \"taken\": {\"bottle_1\": [603, 635], \"bottle_0\": [214, 239], \"bottle_2\": [811, 829]}}\n"
     ]
    }
   ],
   "source": [
    "#Get result from server\n",
    "result = requests.get(url + '/result/track')\n",
    "print(result.text)"
   ]
  },
  {
   "cell_type": "markdown",
   "metadata": {},
   "source": [
    "# Store all message"
   ]
  },
  {
   "cell_type": "code",
   "execution_count": 6,
   "metadata": {},
   "outputs": [
    {
     "name": "stdout",
     "output_type": "stream",
     "text": [
      "Bottle list : ['bottle_0', 'bottle_1', 'bottle_2']\n",
      "bottle_1 [603, 635]\n",
      "bottle_0 [214, 239]\n",
      "bottle_2 [811, 829]\n",
      "[['bottle_1', [603, 635]], ['bottle_0', [214, 239]], ['bottle_2', [811, 829]]]\n"
     ]
    }
   ],
   "source": [
    "import json\n",
    "import pandas as pd\n",
    "\n",
    "original = pd.read_csv('C:/Users/NCTU/Desktop/WhoTakeWhat/data/Camera/original.csv', header=None)\n",
    "\n",
    "decodejson =  json.loads(result.text)\n",
    "print('Bottle list :', decodejson['bottle_list'])\n",
    "\n",
    "takenOrNot_series = np.zeros((original.shape[0]))\n",
    "what_series = ['n'] * original.shape[0]\n",
    "\n",
    "bottle_taken_list = []\n",
    "taken_dict = decodejson['taken']\n",
    "for what, when in taken_dict.items():\n",
    "    print(what, when)\n",
    "    bottle_taken_list.append([what, when])\n",
    "    takenOrNot_series[when[0]:when[1]+1] = 1\n",
    "    for index, whatinser in enumerate(what_series):\n",
    "        if index in range(when[0], when[1]+1):\n",
    "            if whatinser == 'n':\n",
    "                whatinser = what\n",
    "            else:\n",
    "                whatinser = whatinser + ',' + what\n",
    "            what_series[index] = whatinser\n",
    "        # what_series[when[0]:when[1]+1] = [what] * (when[1] - when[0]+1)\n",
    "        \n",
    "\n",
    "final_csv = pd.concat([pd.Series(takenOrNot_series, dtype='int16'),\n",
    "           pd.Series(what_series),\n",
    "           original],\n",
    "          ignore_index=True, axis=1)\n",
    "\n",
    "print(bottle_taken_list)\n",
    "pd.DataFrame(bottle_taken_list).to_csv('C:/Users/NCTU/Desktop/WhoTakeWhat/data/result/Event_Detection/objects/taken_list.csv', header=None, index=None)\n",
    "final_csv.to_csv('C:/Users/NCTU/Desktop/WhoTakeWhat/data/result/Event_Detection/objects/objects.csv', header=None, index=None)"
   ]
  },
  {
   "cell_type": "markdown",
   "metadata": {},
   "source": [
    "# Just store taken event"
   ]
  },
  {
   "cell_type": "code",
   "execution_count": 7,
   "metadata": {},
   "outputs": [],
   "source": [
    "# import json\n",
    "# import pandas as pd\n",
    "\n",
    "# original = pd.read_csv('C:/Users/NCTU/Desktop/WhoTakeWhat/data/Kinect/original.csv', header=None)\n",
    "\n",
    "# decodejson =  json.loads(result.text)\n",
    "# print('Bottle list :', decodejson['bottle_list'])\n",
    "\n",
    "# what_series = ['n'] * original.shape[0]\n",
    "\n",
    "# bottle_taken_list = []\n",
    "# taken_dict = decodejson['taken']\n",
    "# for what, when in taken_dict.items():\n",
    "#     print(what, when)\n",
    "#     bottle_taken_list.append(what)\n",
    "#     takenOrNot_series = np.ones(when[1]-when[0]+1)\n",
    "#     what_series = [what] * (when[1]-when[0]+1)\n",
    "#     for index, whatinser in enumerate(what_series):\n",
    "#         if index in range(when[0], when[1]+1):\n",
    "#             if whatinser == 'n':\n",
    "#                 whatinser = what\n",
    "#             else:\n",
    "#                 whatinser = whatinser + ',' + what\n",
    "#             what_series[index] = whatinser\n",
    "#         # what_series[when[0]:when[1]+1] = [what] * (when[1] - when[0]+1)\n",
    "        \n",
    "\n",
    "# final_csv = pd.concat([pd.Series(takenOrNot_series, dtype='int16'),\n",
    "#            pd.Series(what_series),\n",
    "#            original],\n",
    "#           ignore_index=True, axis=1)\n",
    "\n",
    "# pd.Series(bottle_taken_list).to_csv('C:/Users/NCTU/Desktop/WhoTakeWhat/data/result/Interaction_Scoring/objects/taken_list.csv', header=None, index=None)\n",
    "# final_csv.to_csv('C:/Users/NCTU/Desktop/WhoTakeWhat/data/result/Interaction_Scoring/objects/objects.csv', header=None, index=None)"
   ]
  },
  {
   "cell_type": "code",
   "execution_count": 8,
   "metadata": {},
   "outputs": [
    {
     "ename": "ZeroDivisionError",
     "evalue": "division by zero",
     "output_type": "error",
     "traceback": [
      "\u001b[1;31m---------------------------------------------------------------------------\u001b[0m",
      "\u001b[1;31mZeroDivisionError\u001b[0m                         Traceback (most recent call last)",
      "\u001b[1;32m<ipython-input-8-9e1622b385b6>\u001b[0m in \u001b[0;36m<module>\u001b[1;34m()\u001b[0m\n\u001b[1;32m----> 1\u001b[1;33m \u001b[1;36m1\u001b[0m\u001b[1;33m/\u001b[0m\u001b[1;36m0\u001b[0m\u001b[1;33m\u001b[0m\u001b[0m\n\u001b[0m",
      "\u001b[1;31mZeroDivisionError\u001b[0m: division by zero"
     ]
    }
   ],
   "source": [
    "1/0"
   ]
  },
  {
   "cell_type": "markdown",
   "metadata": {},
   "source": [
    "# Debug"
   ]
  },
  {
   "cell_type": "code",
   "execution_count": null,
   "metadata": {},
   "outputs": [],
   "source": [
    "a = [1,2,3]\n",
    "a[0:2]"
   ]
  },
  {
   "cell_type": "code",
   "execution_count": null,
   "metadata": {},
   "outputs": [],
   "source": [
    "for i  in range(0, 2 ):\n",
    "    print(i)"
   ]
  },
  {
   "cell_type": "code",
   "execution_count": null,
   "metadata": {},
   "outputs": [],
   "source": [
    "for index, whatin in enumerate([5,5,5]):\n",
    "    print(index, whatin)"
   ]
  },
  {
   "cell_type": "code",
   "execution_count": null,
   "metadata": {},
   "outputs": [],
   "source": [
    "import pandas as pd"
   ]
  },
  {
   "cell_type": "code",
   "execution_count": null,
   "metadata": {},
   "outputs": [],
   "source": [
    "s = pd.Series(['a', 'b', 'c', 'd', 'e'], index=range(3, 8))\n",
    "\n",
    "s"
   ]
  },
  {
   "cell_type": "code",
   "execution_count": null,
   "metadata": {},
   "outputs": [],
   "source": [
    "s.index.tolist()"
   ]
  },
  {
   "cell_type": "code",
   "execution_count": null,
   "metadata": {},
   "outputs": [],
   "source": [
    "#Store json\n",
    "import json\n",
    "\n",
    "with open('C:/Users/NCTU/Desktop/WhoTakeWhat/data/result/Interaction_Scoring/objects.json', 'w') as fp:\n",
    "    json.dump(result, fp)"
   ]
  },
  {
   "cell_type": "code",
   "execution_count": null,
   "metadata": {},
   "outputs": [],
   "source": [
    "result = '{\"bottle_list\": [\"bottle_0\", \"bottle_1\", \"bottle_2\"], \"taken\": {\"0\": {\"bottle_2\": [120, 155]}, \"1\": {\"bottle_0\": [219, 241]}}}'"
   ]
  },
  {
   "cell_type": "code",
   "execution_count": null,
   "metadata": {},
   "outputs": [],
   "source": [
    "json.dumps(result)"
   ]
  },
  {
   "cell_type": "code",
   "execution_count": null,
   "metadata": {},
   "outputs": [],
   "source": [
    "#Store json\n",
    "import json\n",
    "\n",
    "with open('D:/GoogleDrive/Graduate/Research/Research_HsinWei/Programs/WhoTakeWhat/data/result/Interaction_Scoring/objects.json', 'w') as fp:\n",
    "    json.dump(result, fp)"
   ]
  },
  {
   "cell_type": "code",
   "execution_count": null,
   "metadata": {},
   "outputs": [],
   "source": [
    "with open('D:/GoogleDrive/Graduate/Research/Research_HsinWei/Programs/WhoTakeWhat/data/result/Interaction_Scoring/objects.json', 'w') as fp:\n",
    "    a = json.load(fp)"
   ]
  },
  {
   "cell_type": "code",
   "execution_count": null,
   "metadata": {},
   "outputs": [],
   "source": [
    "vidcap = cv2.VideoCapture('D:/GoogleDrive/Graduate/Research/Research_HsinWei/Programs/data/ObjectDetection/rawData/original.avi')\n",
    "success, image = vidcap.read()\n",
    "count = 0\n",
    "while success:\n",
    "    print('Read a new frame %d: ' % count, success)\n",
    "#     cv2.imwrite(\"D:/GoogleDrive/Graduate/Research/Research_HsinWei/Programs/data/ObjectDetection/rawData/frames/%d.jpg\" % count, image)     # save frame as JPEG file\n",
    "#     Update to server\n",
    "    files = {'file': image}\n",
    "    r = requests.post('http://140.113.193.8:8896/update', files = files)\n",
    "    print('Update to server: ', r)\n",
    "    success, image = vidcap.read()\n",
    "    count += 1"
   ]
  },
  {
   "cell_type": "code",
   "execution_count": null,
   "metadata": {},
   "outputs": [],
   "source": [
    "r = requests.post('http://140.113.193.8:8896/deletefiles')\n",
    "print(r.text)"
   ]
  },
  {
   "cell_type": "code",
   "execution_count": null,
   "metadata": {},
   "outputs": [],
   "source": [
    "whichObject_strEndFrame_all = {\"bottle_list\": [\"bottle_0\", \"bottle_1\", \"bottle_2\"], \n",
    "                               \"taken\" : {\"1\": {\"bottle_0\": [76, 144]}, \"2\": {\"bottle_0\": [222, 273]}}}\n",
    "whichObject_strEndFrame = {\"1\": {\"bottle_0\": [76, 144]}, \"2\": {\"bottle_0\": [222, 273]}}"
   ]
  },
  {
   "cell_type": "code",
   "execution_count": null,
   "metadata": {},
   "outputs": [],
   "source": [
    "whichObject_strEndFrame_all"
   ]
  },
  {
   "cell_type": "code",
   "execution_count": null,
   "metadata": {},
   "outputs": [],
   "source": []
  },
  {
   "cell_type": "code",
   "execution_count": null,
   "metadata": {},
   "outputs": [],
   "source": [
    "forjson_save_all = {}\n",
    "forjson_save_taken = {}\n",
    "bottle_all = whichObject_strEndFrame_all['bottle_list']\n",
    "for ti in sorted(whichObject_strEndFrame.keys()):\n",
    "    for bott in whichObject_strEndFrame[ti]:\n",
    "        forjson_save_taken[ti] = bottle_all[bott.split('_')[1]]"
   ]
  },
  {
   "cell_type": "code",
   "execution_count": null,
   "metadata": {},
   "outputs": [],
   "source": [
    "bottle_all = whichObject_strEndFrame_all['bottle_list']"
   ]
  },
  {
   "cell_type": "code",
   "execution_count": null,
   "metadata": {},
   "outputs": [],
   "source": [
    "bottle_all"
   ]
  },
  {
   "cell_type": "code",
   "execution_count": null,
   "metadata": {},
   "outputs": [],
   "source": [
    "w = 'bottle_0'\n",
    "\n",
    "print(bottle_all.pop(int(w.split('_')[1])))"
   ]
  },
  {
   "cell_type": "code",
   "execution_count": null,
   "metadata": {
    "scrolled": true
   },
   "outputs": [],
   "source": [
    "bottle_all"
   ]
  },
  {
   "cell_type": "code",
   "execution_count": null,
   "metadata": {},
   "outputs": [],
   "source": []
  }
 ],
 "metadata": {
  "kernelspec": {
   "display_name": "Python 3",
   "language": "python",
   "name": "python3"
  },
  "language_info": {
   "codemirror_mode": {
    "name": "ipython",
    "version": 3
   },
   "file_extension": ".py",
   "mimetype": "text/x-python",
   "name": "python",
   "nbconvert_exporter": "python",
   "pygments_lexer": "ipython3",
   "version": "3.6.4"
  }
 },
 "nbformat": 4,
 "nbformat_minor": 2
}
