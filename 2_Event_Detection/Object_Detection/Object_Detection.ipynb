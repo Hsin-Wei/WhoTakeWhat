{
 "cells": [
  {
   "cell_type": "code",
   "execution_count": 1,
   "metadata": {},
   "outputs": [],
   "source": [
    "import numpy as np\n",
    "import cv2\n",
    "import requests\n",
    "import os, os.path"
   ]
  },
  {
   "cell_type": "code",
   "execution_count": 2,
   "metadata": {},
   "outputs": [],
   "source": [
    "#Parameters\n",
    "frames_DIR = 'C:\\\\Users\\\\NCTU\\\\Desktop\\\\WhoTakeWhat\\\\data\\\\Camera'\n",
    "url = 'http://140.113.86.149:8896'"
   ]
  },
  {
   "cell_type": "code",
   "execution_count": 3,
   "metadata": {},
   "outputs": [
    {
     "name": "stdout",
     "output_type": "stream",
     "text": [
      "remove success\n"
     ]
    }
   ],
   "source": [
    "#Delete prior files in server\n",
    "dr = requests.post(url + '/deletefiles')\n",
    "print(dr.text)"
   ]
  },
  {
   "cell_type": "code",
   "execution_count": 4,
   "metadata": {},
   "outputs": [
    {
     "data": {
      "application/vnd.jupyter.widget-view+json": {
       "model_id": "6f95c80dbf684955a3514910f3b7c89a",
       "version_major": 2,
       "version_minor": 0
      },
      "text/html": [
       "<p>Failed to display Jupyter Widget of type <code>IntProgress</code>.</p>\n",
       "<p>\n",
       "  If you're reading this message in the Jupyter Notebook or JupyterLab Notebook, it may mean\n",
       "  that the widgets JavaScript is still loading. If this message persists, it\n",
       "  likely means that the widgets JavaScript library is either not installed or\n",
       "  not enabled. See the <a href=\"https://ipywidgets.readthedocs.io/en/stable/user_install.html\">Jupyter\n",
       "  Widgets Documentation</a> for setup instructions.\n",
       "</p>\n",
       "<p>\n",
       "  If you're reading this message in another frontend (for example, a static\n",
       "  rendering on GitHub or <a href=\"https://nbviewer.jupyter.org/\">NBViewer</a>),\n",
       "  it may mean that your frontend doesn't currently support widgets.\n",
       "</p>\n"
      ],
      "text/plain": [
       "IntProgress(value=0, description='(Init)', max=801)"
      ]
     },
     "metadata": {},
     "output_type": "display_data"
    }
   ],
   "source": [
    "#Update frames to server\n",
    "from ipywidgets import IntProgress\n",
    "from IPython.display import display\n",
    "\n",
    "frames_files = [name for name in os.listdir(frames_DIR) if '.jpg' in name]\n",
    "\n",
    "#init progress\n",
    "progress = IntProgress()\n",
    "progress.max = len(frames_files)\n",
    "progress.description = '(Init)'\n",
    "display(progress)\n",
    "\n",
    "# # Simulating task execution\n",
    "# for task in todo_tasks:\n",
    "#     progress.value += 1\n",
    "#     time.sleep(0.05)\n",
    "#     progress.description = task\n",
    "# progress.description = '(Done)'\n",
    "\n",
    "images_count = len(frames_files)\n",
    "                   \n",
    "for count in range(images_count):\n",
    "    files = {'file': open(frames_DIR + ('/%d.jpg' % count), 'rb')}\n",
    "    r = requests.post(url + '/update', files = files)\n",
    "    # Show progress\n",
    "    progress.value += 1\n",
    "    progress.description = ('%d.jpg to server: ' % count)\n",
    "progress.description = '(Done)'\n",
    "#     print('Update %d.jpg to server: ' % count, r.text)"
   ]
  },
  {
   "cell_type": "code",
   "execution_count": 5,
   "metadata": {},
   "outputs": [
    {
     "name": "stdout",
     "output_type": "stream",
     "text": [
      "{\"taken\": {\"book\": [476, 506], \"bottle\": [603, 641]}, \"object_list\": [\"bottle\", \"book\"]}\n"
     ]
    }
   ],
   "source": [
    "#Get result from server\n",
    "result = requests.get(url + '/result/track_all')\n",
    "print(result.text)"
   ]
  },
  {
   "cell_type": "markdown",
   "metadata": {},
   "source": [
    "# Store all message"
   ]
  },
  {
   "cell_type": "code",
   "execution_count": 6,
   "metadata": {
    "scrolled": true
   },
   "outputs": [
    {
     "name": "stdout",
     "output_type": "stream",
     "text": [
      "Object list : ['bottle', 'book']\n",
      "book [476, 506]\n",
      "bottle [603, 641]\n",
      "[['book', [476, 506]], ['bottle', [603, 641]]]\n"
     ]
    }
   ],
   "source": [
    "import json\n",
    "import pandas as pd\n",
    "\n",
    "original = pd.read_csv('C:/Users/NCTU/Desktop/WhoTakeWhat/data/Camera/original.csv', header=None)\n",
    "\n",
    "decodejson =  json.loads(result.text)\n",
    "print('Object list :', decodejson['object_list'])\n",
    "\n",
    "takenOrNot_series = np.zeros((original.shape[0]))\n",
    "what_series = ['n'] * original.shape[0]\n",
    "\n",
    "object_taken_list = []\n",
    "taken_dict = decodejson['taken']\n",
    "for what, when in taken_dict.items():\n",
    "    print(what, when)\n",
    "    object_taken_list.append([what, when])\n",
    "    takenOrNot_series[when[0]:when[1]+1] = 1\n",
    "    for index, whatinser in enumerate(what_series):\n",
    "        if index in range(when[0], when[1]+1):\n",
    "            if whatinser == 'n':\n",
    "                whatinser = what\n",
    "            else:\n",
    "                whatinser = whatinser + ',' + what\n",
    "            what_series[index] = whatinser\n",
    "        # what_series[when[0]:when[1]+1] = [what] * (when[1] - when[0]+1)\n",
    "        \n",
    "\n",
    "final_csv = pd.concat([pd.Series(takenOrNot_series, dtype='int16'),\n",
    "           pd.Series(what_series),\n",
    "           original],\n",
    "          ignore_index=True, axis=1)\n",
    "\n",
    "print(object_taken_list)\n",
    "pd.DataFrame(object_taken_list).to_csv('C:/Users/NCTU/Desktop/WhoTakeWhat/data/result/Event_Detection/objects/taken_list.csv', header=None, index=None)\n",
    "final_csv.to_csv('C:/Users/NCTU/Desktop/WhoTakeWhat/data/result/Event_Detection/objects/objects.csv', header=None, index=None)"
   ]
  }
 ],
 "metadata": {
  "kernelspec": {
   "display_name": "Python 3",
   "language": "python",
   "name": "python3"
  },
  "language_info": {
   "codemirror_mode": {
    "name": "ipython",
    "version": 3
   },
   "file_extension": ".py",
   "mimetype": "text/x-python",
   "name": "python",
   "nbconvert_exporter": "python",
   "pygments_lexer": "ipython3",
   "version": "3.6.4"
  }
 },
 "nbformat": 4,
 "nbformat_minor": 2
}
