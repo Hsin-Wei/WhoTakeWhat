{
 "cells": [
  {
   "cell_type": "code",
   "execution_count": 70,
   "metadata": {},
   "outputs": [],
   "source": [
    "import glob\n",
    "import os\n",
    "import pandas as pd\n",
    "import networkx as nx\n",
    "from networkx.algorithms import bipartite\n",
    "import time\n",
    "import datetime"
   ]
  },
  {
   "cell_type": "code",
   "execution_count": 71,
   "metadata": {},
   "outputs": [],
   "source": [
    "# #Loading results of Reaching out detection\n",
    "# ro_path = r'C:/Users/NCTU/Desktop/WhoTakeWhat/data/result/Interaction_Scoring'                     # use your path\n",
    "# ro_all_files = glob.glob(os.path.join(ro_path, \"*.csv\"))     # advisable to use os.path.join as this makes concatenation OS independent\n",
    "\n",
    "# ro_namedfs = {}\n",
    "# for file in ro_all_files:\n",
    "# #     print(file)\n",
    "#     name = file.split('\\\\')[-1].split('.')[0]\n",
    "# #     print(name)\n",
    "#     ro_df = pd.read_csv(file, header=None, names=['yn','timestamp'])\n",
    "#     ro_df['timestamp'] = pd.to_datetime(ro_df['timestamp'], format='%H:%M:%S:%f')\n",
    "#     ro_namedfs[name] = ro_df\n",
    "    \n",
    "# #Loading results of object detection\n",
    "# obDe_df = pd.read_csv('C:/Users/NCTU/Desktop/WhoTakeWhat/data/result/Interaction_Scoring/objects/objects.csv', \n",
    "#                       header=None, \n",
    "#                       names=['yn', 'what', 'frame_number', 'timestamp'])\n",
    "\n",
    "# #Loading list of taken objects\n",
    "# taken_list = pd.read_csv('C:/Users/NCTU/Desktop/WhoTakeWhat/data/result/Interaction_Scoring/objects/taken_list.csv', \n",
    "#                       header=None)[0].values"
   ]
  },
  {
   "cell_type": "code",
   "execution_count": 81,
   "metadata": {
    "scrolled": true
   },
   "outputs": [],
   "source": [
    "# Algo.\n",
    "def ReachingAndTaken(ro_namedfs, obDe_df, obDe_all_split_index):\n",
    "    taken_event_results = {}\n",
    "    for times, taken_event in enumerate(obDe_all_split_index):\n",
    "        taken_event_result = []\n",
    "        what_list = []\n",
    "        whatsets = obDe_df.loc[taken_event[0]:taken_event[-1], ['what']].values\n",
    "        for whatset in whatsets:\n",
    "            whats = whatset[0].split(',')\n",
    "            for what in whats:\n",
    "                if what not in what_list:\n",
    "                    what_list.append(what)\n",
    "        for what in what_list:\n",
    "            what_detected_times_df = obDe_taken_df.loc[obDe_df['what'].str.contains(what), ['timestamp']].reset_index(drop=True)\n",
    "            what_detected_times_df['timestamp'] = pd.to_datetime(what_detected_times_df['timestamp'], format='%H:%M:%S:%f')\n",
    "            start_time = what_detected_times_df.iloc[0]['timestamp']\n",
    "            end_time = what_detected_times_df.iloc[what_detected_times_df.shape[0]-1]['timestamp']\n",
    "\n",
    "            for name, ro_df in ro_namedfs.items():\n",
    "                weight = ro_df.loc[(ro_df['timestamp'] >= start_time.to_datetime64()) & (ro_df['timestamp'] <= end_time.to_datetime64()), \n",
    "                                   ['yn']].sum().values[0]\n",
    "                \n",
    "                taken_event_result.append([name, what, weight].copy())\n",
    "\n",
    "        taken_event_results[times] = taken_event_result\n",
    "    \n",
    "#     print(start_time, end_time)\n",
    "    \n",
    "\n",
    "# for what in pd.unique(obDe_taken_df['what']):\n",
    "#     B = nx.Graph()\n",
    "#     what_objects = what.split(',')\n",
    "#     B.add_nodes_from(what_objects, bipartite=1)\n",
    "#     object_detected_df = obDe_taken_df.loc[obDe_taken_df['what']== what, ['what', 'frame_number', 'timestamp']].reset_index(drop=True)\n",
    "#     object_detected_df['timestamp'] = pd.to_datetime(object_detected_df['timestamp'], format='%H:%M:%S:%f')\n",
    "#     start_time = object_detected_df.iloc[0]['timestamp']\n",
    "#     end_time = object_detected_df.iloc[object_detected_df.shape[0]-1]['timestamp']\n",
    "# #     print(start_time, end_time)\n",
    "#     for name, df in ro_namedfs.items():\n",
    "#         weight = df.loc[(df['timestamp'] >= start_time.to_datetime64()) & (df['timestamp'] <= end_time.to_datetime64()), ['yn']].sum()\n",
    "        \n",
    "#         B.add_nodes_from([name], bipartite=0)\n",
    "#         for what_object in what_objects:\n",
    "#             B.add_edges_from([(name, what_object)], weight=weight)\n",
    "            \n",
    "    \n",
    "#     print(object_detected_df.iloc[0]['timestamp'])\n",
    "#     begin_dt = datetime.datetime.strptime(object_detected_df.iloc[0]['timestamp'], '%H:%M:%S:%f')\n",
    "#     print(begin_dt)"
   ]
  }
 ],
 "metadata": {
  "kernelspec": {
   "display_name": "Python 3",
   "language": "python",
   "name": "python3"
  },
  "language_info": {
   "codemirror_mode": {
    "name": "ipython",
    "version": 3
   },
   "file_extension": ".py",
   "mimetype": "text/x-python",
   "name": "python",
   "nbconvert_exporter": "python",
   "pygments_lexer": "ipython3",
   "version": "3.6.4"
  }
 },
 "nbformat": 4,
 "nbformat_minor": 2
}
