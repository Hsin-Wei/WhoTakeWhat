{
 "cells": [
  {
   "cell_type": "code",
   "execution_count": null,
   "metadata": {
    "scrolled": true
   },
   "outputs": [
    {
     "name": "stdout",
     "output_type": "stream",
     "text": [
      "Server start at: 192.168.1.126:8888\n",
      "wait for connection...\n",
      "Client 192.168.1.114:49814 connected.\n",
      "Client 192.168.1.114:49814 disconnected.\n",
      "Client 192.168.1.114:41661 connected.\n",
      "File hsin0327 finished.\n"
     ]
    }
   ],
   "source": [
    "import socket\n",
    "import threading\n",
    "import datetime\n",
    "import csv\n",
    "import pandas as pd\n",
    "\n",
    "#Parameters\n",
    "# HOST = '140.113.167.233'\n",
    "HOST = '192.168.1.126'\n",
    "PORT = 8888\n",
    "# File_PATH = 'D:\\\\GoogleDrive\\\\Graduate\\\\Research\\\\Research_HsinWei\\\\Programs\\\\WhoTakeWhat\\\\data\\\\IMU\\\\'\n",
    "File_PATH = 'C:\\\\Users\\\\NCTU\\\\Desktop\\\\WhoTakeWhat\\\\data\\\\IMU\\\\'\n",
    "\n",
    "sock = socket.socket(socket.AF_INET, socket.SOCK_STREAM)\n",
    "sock.setsockopt(socket.SOL_SOCKET, socket.SO_REUSEADDR, 1) #reuse tcp\n",
    "sock.bind((HOST, PORT))\n",
    "sock.listen(6)\n",
    "\n",
    "print ('Server start at: %s:%s' %(HOST, PORT))\n",
    "print ('wait for connection...')\n",
    "\n",
    "class TServer(threading.Thread):\n",
    "    def __init__(self, socket, adr):\n",
    "        threading.Thread.__init__(self)\n",
    "        self.socket = socket\n",
    "        self.address= adr\n",
    "\n",
    "    def run(self):\n",
    "        print ('Client %s:%s connected.' % self.address)\n",
    "        \n",
    "        while True:\n",
    "            name = self.socket.recv(1024)\n",
    "            self.name = name.decode(\"utf-8\")\n",
    "            if name:\n",
    "                break\n",
    "        \n",
    "        samples_raw = ''\n",
    "        while True:\n",
    "            data = self.socket.recv(1024)\n",
    "            time = f\"{datetime.datetime.now():%H:%M:%S:%f}\"\n",
    "            samples_raw += data.decode(\"utf-8\")\n",
    "            if data == b'':\n",
    "                break\n",
    "            \n",
    "            \n",
    "        self.socket.close()\n",
    "        print ('Client %s:%s disconnected.' % self.address)\n",
    "        \n",
    "        samples = []\n",
    "        for sam in samples_raw.split('\\n')[:-1]:\n",
    "            samples.append(sam.split(','))\n",
    "        \n",
    "        samples_df = pd.DataFrame.from_records(samples)\n",
    "        samples_df.to_csv(File_PATH + (\"%s.csv\" % self.name), header=None, index=None)\n",
    "        print ('File %s finished.' % self.name)\n",
    "\n",
    "while True:\n",
    "        (client, adr) = sock.accept()\n",
    "        TServer(client, adr).start()"
   ]
  }
 ],
 "metadata": {
  "kernelspec": {
   "display_name": "Python 3",
   "language": "python",
   "name": "python3"
  },
  "language_info": {
   "codemirror_mode": {
    "name": "ipython",
    "version": 3
   },
   "file_extension": ".py",
   "mimetype": "text/x-python",
   "name": "python",
   "nbconvert_exporter": "python",
   "pygments_lexer": "ipython3",
   "version": "3.6.4"
  }
 },
 "nbformat": 4,
 "nbformat_minor": 2
}
